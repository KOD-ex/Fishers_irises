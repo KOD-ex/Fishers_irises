{
 "cells": [
  {
   "cell_type": "code",
   "execution_count": 55,
   "metadata": {},
   "outputs": [],
   "source": [
    "import pandas \n",
    "from sklearn.ensemble import RandomForestClassifier\n",
    "import matplotlib.pyplot as plt\n",
    "from sklearn.metrics import mean_absolute_error"
   ]
  },
  {
   "cell_type": "code",
   "execution_count": 56,
   "metadata": {},
   "outputs": [],
   "source": [
    "dataframe = pandas.read_excel(\"Iris.xls\")"
   ]
  },
  {
   "cell_type": "code",
   "execution_count": 58,
   "metadata": {},
   "outputs": [],
   "source": [
    "# Данные, на основе которых мы хотим научиться делать предсказание\n",
    "input_data = dataframe.drop('Species_name', axis=1) \n",
    "target = dataframe.Species_name # ТО, что мы пытаемся предсказать"
   ]
  },
  {
   "cell_type": "code",
   "execution_count": 59,
   "metadata": {},
   "outputs": [],
   "source": [
    "model = RandomForestClassifier()"
   ]
  },
  {
   "cell_type": "code",
   "execution_count": 60,
   "metadata": {},
   "outputs": [
    {
     "data": {
      "text/plain": [
       "RandomForestClassifier()"
      ]
     },
     "execution_count": 60,
     "metadata": {},
     "output_type": "execute_result"
    }
   ],
   "source": [
    "model.fit(input_data, target)"
   ]
  },
  {
   "cell_type": "code",
   "execution_count": 61,
   "metadata": {},
   "outputs": [],
   "source": [
    "examples_output_data = ['Setosa', 'Setosa', 'Verginica', 'Versicolor', 'Verginica']"
   ]
  },
  {
   "cell_type": "code",
   "execution_count": 62,
   "metadata": {},
   "outputs": [],
   "source": [
    "examples_input_data = [\n",
    "        {\n",
    "        'Species_No': [1],\n",
    "        'Petal_width': [0.2],\n",
    "        'Petal_length': [1.4],\n",
    "        'Sepal_width': [3.5],\n",
    "        'Sepal_length': [5.1]},\n",
    "        {\n",
    "        'Species_No': [1],\n",
    "        'Petal_width': [0.1],\n",
    "        'Petal_length': [1.5],\n",
    "        'Sepal_width': [3.5],\n",
    "        'Sepal_length': [5.3]},  \n",
    "        {\n",
    "        'Species_No': [3],\n",
    "        'Petal_width': [2.0],\n",
    "        'Petal_length': [4.9],\n",
    "        'Sepal_width': [2.8],\n",
    "        'Sepal_length': [6.2]},\n",
    "        {\n",
    "         'Species_No': [2],\n",
    "        'Petal_width': [1.4],\n",
    "        'Petal_length': [4.6],\n",
    "        'Sepal_width': [3.0],\n",
    "        'Sepal_length': [6.1]},\n",
    "        {\n",
    "        'Species_No': [3],\n",
    "        'Petal_width': [2.1],\n",
    "        'Petal_length': [4.8],\n",
    "        'Sepal_width': [2.6],\n",
    "        'Sepal_length': [6.0]}]"
   ]
  },
  {
   "cell_type": "code",
   "execution_count": 63,
   "metadata": {},
   "outputs": [],
   "source": [
    "results = []"
   ]
  },
  {
   "cell_type": "code",
   "execution_count": 64,
   "metadata": {},
   "outputs": [],
   "source": [
    "for i in range(5):\n",
    "    example_dataframe = pandas.DataFrame(data=examples_input_data[i])\n",
    "    result = model.predict(example_dataframe)\n",
    "    result = result[0][1:]\n",
    "    results.append(result)"
   ]
  },
  {
   "cell_type": "code",
   "execution_count": 67,
   "metadata": {},
   "outputs": [
    {
     "data": {
      "text/plain": [
       "<matplotlib.legend.Legend at 0x7fb3d0246970>"
      ]
     },
     "execution_count": 67,
     "metadata": {},
     "output_type": "execute_result"
    },
    {
     "data": {
      "image/png": "[encoded data removed]",
      "text/plain": [
       "<Figure size 432x288 with 1 Axes>"
      ]
     },
     "metadata": {
      "needs_background": "light"
     },
     "output_type": "display_data"
    }
   ],
   "source": [
    "plt.plot(results, label=\"Prediction\")\n",
    "plt.legend()"
   ]
  },
  {
   "cell_type": "code",
   "execution_count": 68,
   "metadata": {},
   "outputs": [
    {
     "data": {
      "text/plain": [
       "<matplotlib.legend.Legend at 0x7fb3cde0afa0>"
      ]
     },
     "execution_count": 68,
     "metadata": {},
     "output_type": "execute_result"
    },
    {
     "data": {
      "image/png": "[encoded data removed]",
      "text/plain": [
       "<Figure size 432x288 with 1 Axes>"
      ]
     },
     "metadata": {
      "needs_background": "light"
     },
     "output_type": "display_data"
    }
   ],
   "source": [
    "plt.plot(examples_output_data, label=\"Real\")\n",
    "plt.legend()"
   ]
  },
  {
   "cell_type": "code",
   "execution_count": null,
   "metadata": {},
   "outputs": [],
   "source": []
  }
 ],
 "metadata": {
  "kernelspec": {
   "display_name": "Python 3",
   "language": "python",
   "name": "python3"
  },
  "language_info": {
   "codemirror_mode": {
    "name": "ipython",
    "version": 3
   },
   "file_extension": ".py",
   "mimetype": "text/x-python",
   "name": "python",
   "nbconvert_exporter": "python",
   "pygments_lexer": "ipython3",
   "version": "3.8.3"
  }
 },
 "nbformat": 4,
 "nbformat_minor": 4
}
